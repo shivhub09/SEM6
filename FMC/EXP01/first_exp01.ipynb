{
 "cells": [
  {
   "cell_type": "code",
   "execution_count": 16,
   "metadata": {},
   "outputs": [],
   "source": [
    "import pandas as pd \n"
   ]
  },
  {
   "cell_type": "code",
   "execution_count": 5,
   "metadata": {},
   "outputs": [
    {
     "name": "stdout",
     "output_type": "stream",
     "text": [
      "Collecting yfinance\n",
      "  Using cached yfinance-0.2.36-py2.py3-none-any.whl (72 kB)\n",
      "Requirement already satisfied: pandas>=1.3.0 in c:\\users\\shivam\\anaconda3\\lib\\site-packages (from yfinance) (1.5.3)\n",
      "Requirement already satisfied: numpy>=1.16.5 in c:\\users\\shivam\\anaconda3\\lib\\site-packages (from yfinance) (1.24.3)\n",
      "Collecting requests>=2.31 (from yfinance)\n",
      "  Using cached requests-2.31.0-py3-none-any.whl (62 kB)\n",
      "Collecting multitasking>=0.0.7 (from yfinance)\n",
      "  Using cached multitasking-0.0.11-py3-none-any.whl (8.5 kB)\n",
      "Requirement already satisfied: lxml>=4.9.1 in c:\\users\\shivam\\anaconda3\\lib\\site-packages (from yfinance) (4.9.2)\n",
      "Requirement already satisfied: appdirs>=1.4.4 in c:\\users\\shivam\\anaconda3\\lib\\site-packages (from yfinance) (1.4.4)\n",
      "Requirement already satisfied: pytz>=2022.5 in c:\\users\\shivam\\anaconda3\\lib\\site-packages (from yfinance) (2022.7)\n",
      "Collecting frozendict>=2.3.4 (from yfinance)\n",
      "  Using cached frozendict-2.4.0-py3-none-any.whl\n",
      "Collecting peewee>=3.16.2 (from yfinance)\n",
      "  Using cached peewee-3.17.0-py3-none-any.whl\n",
      "Requirement already satisfied: beautifulsoup4>=4.11.1 in c:\\users\\shivam\\anaconda3\\lib\\site-packages (from yfinance) (4.12.2)\n",
      "Collecting html5lib>=1.1 (from yfinance)\n",
      "  Using cached html5lib-1.1-py2.py3-none-any.whl (112 kB)\n",
      "Requirement already satisfied: soupsieve>1.2 in c:\\users\\shivam\\anaconda3\\lib\\site-packages (from beautifulsoup4>=4.11.1->yfinance) (2.4)\n",
      "Requirement already satisfied: six>=1.9 in c:\\users\\shivam\\anaconda3\\lib\\site-packages (from html5lib>=1.1->yfinance) (1.16.0)\n",
      "Requirement already satisfied: webencodings in c:\\users\\shivam\\anaconda3\\lib\\site-packages (from html5lib>=1.1->yfinance) (0.5.1)\n",
      "Requirement already satisfied: python-dateutil>=2.8.1 in c:\\users\\shivam\\anaconda3\\lib\\site-packages (from pandas>=1.3.0->yfinance) (2.8.2)\n",
      "Requirement already satisfied: charset-normalizer<4,>=2 in c:\\users\\shivam\\anaconda3\\lib\\site-packages (from requests>=2.31->yfinance) (2.0.4)\n",
      "Requirement already satisfied: idna<4,>=2.5 in c:\\users\\shivam\\anaconda3\\lib\\site-packages (from requests>=2.31->yfinance) (3.4)\n",
      "Requirement already satisfied: urllib3<3,>=1.21.1 in c:\\users\\shivam\\anaconda3\\lib\\site-packages (from requests>=2.31->yfinance) (1.26.16)\n",
      "Requirement already satisfied: certifi>=2017.4.17 in c:\\users\\shivam\\anaconda3\\lib\\site-packages (from requests>=2.31->yfinance) (2023.5.7)\n",
      "Installing collected packages: peewee, multitasking, requests, html5lib, frozendict, yfinance\n",
      "  Attempting uninstall: requests\n",
      "    Found existing installation: requests 2.29.0\n",
      "    Uninstalling requests-2.29.0:\n",
      "      Successfully uninstalled requests-2.29.0\n",
      "Successfully installed frozendict-2.4.0 html5lib-1.1 multitasking-0.0.11 peewee-3.17.0 requests-2.31.0 yfinance-0.2.36\n"
     ]
    },
    {
     "name": "stderr",
     "output_type": "stream",
     "text": [
      "ERROR: pip's dependency resolver does not currently take into account all the packages that are installed. This behaviour is the source of the following dependency conflicts.\n",
      "conda-repo-cli 1.0.41 requires requests_mock, which is not installed.\n",
      "transformers 2.1.1 requires sentencepiece, which is not installed.\n",
      "conda-repo-cli 1.0.41 requires clyent==1.2.1, but you have clyent 1.2.2 which is incompatible.\n",
      "conda-repo-cli 1.0.41 requires nbformat==5.4.0, but you have nbformat 5.7.0 which is incompatible.\n",
      "conda-repo-cli 1.0.41 requires requests==2.28.1, but you have requests 2.31.0 which is incompatible.\n"
     ]
    }
   ],
   "source": [
    "!pip install yfinance"
   ]
  },
  {
   "cell_type": "code",
   "execution_count": 9,
   "metadata": {},
   "outputs": [
    {
     "name": "stderr",
     "output_type": "stream",
     "text": [
      "c:\\Users\\Shivam\\anaconda3\\Lib\\site-packages\\yfinance\\base.py:48: FutureWarning: The default dtype for empty Series will be 'object' instead of 'float64' in a future version. Specify a dtype explicitly to silence this warning.\n",
      "  _empty_series = pd.Series()\n"
     ]
    }
   ],
   "source": [
    "import yfinance as yf"
   ]
  },
  {
   "cell_type": "code",
   "execution_count": 10,
   "metadata": {},
   "outputs": [],
   "source": [
    "ticker = \"GE\""
   ]
  },
  {
   "cell_type": "code",
   "execution_count": 11,
   "metadata": {},
   "outputs": [
    {
     "name": "stderr",
     "output_type": "stream",
     "text": [
      "[*********************100%%**********************]  1 of 1 completed\n"
     ]
    },
    {
     "data": {
      "text/html": [
       "<div>\n",
       "<style scoped>\n",
       "    .dataframe tbody tr th:only-of-type {\n",
       "        vertical-align: middle;\n",
       "    }\n",
       "\n",
       "    .dataframe tbody tr th {\n",
       "        vertical-align: top;\n",
       "    }\n",
       "\n",
       "    .dataframe thead th {\n",
       "        text-align: right;\n",
       "    }\n",
       "</style>\n",
       "<table border=\"1\" class=\"dataframe\">\n",
       "  <thead>\n",
       "    <tr style=\"text-align: right;\">\n",
       "      <th></th>\n",
       "      <th>Open</th>\n",
       "      <th>High</th>\n",
       "      <th>Low</th>\n",
       "      <th>Close</th>\n",
       "      <th>Adj Close</th>\n",
       "      <th>Volume</th>\n",
       "    </tr>\n",
       "    <tr>\n",
       "      <th>Date</th>\n",
       "      <th></th>\n",
       "      <th></th>\n",
       "      <th></th>\n",
       "      <th></th>\n",
       "      <th></th>\n",
       "      <th></th>\n",
       "    </tr>\n",
       "  </thead>\n",
       "  <tbody>\n",
       "    <tr>\n",
       "      <th>1962-01-02</th>\n",
       "      <td>4.691347</td>\n",
       "      <td>4.769536</td>\n",
       "      <td>4.644433</td>\n",
       "      <td>4.675709</td>\n",
       "      <td>0.784090</td>\n",
       "      <td>345317</td>\n",
       "    </tr>\n",
       "    <tr>\n",
       "      <th>1962-01-03</th>\n",
       "      <td>4.652252</td>\n",
       "      <td>4.652252</td>\n",
       "      <td>4.613158</td>\n",
       "      <td>4.628796</td>\n",
       "      <td>0.776223</td>\n",
       "      <td>236606</td>\n",
       "    </tr>\n",
       "    <tr>\n",
       "      <th>1962-01-04</th>\n",
       "      <td>4.628796</td>\n",
       "      <td>4.667890</td>\n",
       "      <td>4.534969</td>\n",
       "      <td>4.574063</td>\n",
       "      <td>0.767044</td>\n",
       "      <td>294159</td>\n",
       "    </tr>\n",
       "    <tr>\n",
       "      <th>1962-01-05</th>\n",
       "      <td>4.574063</td>\n",
       "      <td>4.581882</td>\n",
       "      <td>4.378590</td>\n",
       "      <td>4.456780</td>\n",
       "      <td>0.747377</td>\n",
       "      <td>436442</td>\n",
       "    </tr>\n",
       "    <tr>\n",
       "      <th>1962-01-08</th>\n",
       "      <td>4.456780</td>\n",
       "      <td>4.456780</td>\n",
       "      <td>4.316039</td>\n",
       "      <td>4.448961</td>\n",
       "      <td>0.746066</td>\n",
       "      <td>495593</td>\n",
       "    </tr>\n",
       "    <tr>\n",
       "      <th>...</th>\n",
       "      <td>...</td>\n",
       "      <td>...</td>\n",
       "      <td>...</td>\n",
       "      <td>...</td>\n",
       "      <td>...</td>\n",
       "      <td>...</td>\n",
       "    </tr>\n",
       "    <tr>\n",
       "      <th>2024-01-22</th>\n",
       "      <td>130.279999</td>\n",
       "      <td>132.270004</td>\n",
       "      <td>130.259995</td>\n",
       "      <td>131.229996</td>\n",
       "      <td>131.229996</td>\n",
       "      <td>8022700</td>\n",
       "    </tr>\n",
       "    <tr>\n",
       "      <th>2024-01-23</th>\n",
       "      <td>127.629997</td>\n",
       "      <td>131.880005</td>\n",
       "      <td>126.500000</td>\n",
       "      <td>129.949997</td>\n",
       "      <td>129.949997</td>\n",
       "      <td>10641500</td>\n",
       "    </tr>\n",
       "    <tr>\n",
       "      <th>2024-01-24</th>\n",
       "      <td>130.270004</td>\n",
       "      <td>130.389999</td>\n",
       "      <td>126.449997</td>\n",
       "      <td>129.929993</td>\n",
       "      <td>129.929993</td>\n",
       "      <td>8607500</td>\n",
       "    </tr>\n",
       "    <tr>\n",
       "      <th>2024-01-25</th>\n",
       "      <td>130.639999</td>\n",
       "      <td>132.500000</td>\n",
       "      <td>129.690002</td>\n",
       "      <td>129.929993</td>\n",
       "      <td>129.929993</td>\n",
       "      <td>4857600</td>\n",
       "    </tr>\n",
       "    <tr>\n",
       "      <th>2024-01-26</th>\n",
       "      <td>130.529999</td>\n",
       "      <td>132.240005</td>\n",
       "      <td>130.389999</td>\n",
       "      <td>131.190002</td>\n",
       "      <td>131.190002</td>\n",
       "      <td>3747800</td>\n",
       "    </tr>\n",
       "  </tbody>\n",
       "</table>\n",
       "<p>15624 rows × 6 columns</p>\n",
       "</div>"
      ],
      "text/plain": [
       "                  Open        High         Low       Close   Adj Close  \\\n",
       "Date                                                                     \n",
       "1962-01-02    4.691347    4.769536    4.644433    4.675709    0.784090   \n",
       "1962-01-03    4.652252    4.652252    4.613158    4.628796    0.776223   \n",
       "1962-01-04    4.628796    4.667890    4.534969    4.574063    0.767044   \n",
       "1962-01-05    4.574063    4.581882    4.378590    4.456780    0.747377   \n",
       "1962-01-08    4.456780    4.456780    4.316039    4.448961    0.746066   \n",
       "...                ...         ...         ...         ...         ...   \n",
       "2024-01-22  130.279999  132.270004  130.259995  131.229996  131.229996   \n",
       "2024-01-23  127.629997  131.880005  126.500000  129.949997  129.949997   \n",
       "2024-01-24  130.270004  130.389999  126.449997  129.929993  129.929993   \n",
       "2024-01-25  130.639999  132.500000  129.690002  129.929993  129.929993   \n",
       "2024-01-26  130.529999  132.240005  130.389999  131.190002  131.190002   \n",
       "\n",
       "              Volume  \n",
       "Date                  \n",
       "1962-01-02    345317  \n",
       "1962-01-03    236606  \n",
       "1962-01-04    294159  \n",
       "1962-01-05    436442  \n",
       "1962-01-08    495593  \n",
       "...              ...  \n",
       "2024-01-22   8022700  \n",
       "2024-01-23  10641500  \n",
       "2024-01-24   8607500  \n",
       "2024-01-25   4857600  \n",
       "2024-01-26   3747800  \n",
       "\n",
       "[15624 rows x 6 columns]"
      ]
     },
     "execution_count": 11,
     "metadata": {},
     "output_type": "execute_result"
    }
   ],
   "source": [
    "yf.download(ticker)"
   ]
  },
  {
   "cell_type": "code",
   "execution_count": 12,
   "metadata": {},
   "outputs": [
    {
     "name": "stderr",
     "output_type": "stream",
     "text": [
      "[*********************100%%**********************]  1 of 1 completed\n"
     ]
    }
   ],
   "source": [
    "GE = yf.download(ticker)"
   ]
  },
  {
   "cell_type": "code",
   "execution_count": 13,
   "metadata": {},
   "outputs": [],
   "source": [
    "# for download ing for a speicific period"
   ]
  },
  {
   "cell_type": "code",
   "execution_count": null,
   "metadata": {},
   "outputs": [],
   "source": [
    "# yf.download(ticker m, start=\"yyyy-mm-dd\", end='yyyy-mm-dd')"
   ]
  },
  {
   "cell_type": "code",
   "execution_count": 14,
   "metadata": {},
   "outputs": [],
   "source": [
    "# yf.download(ticker, period='1mo)"
   ]
  },
  {
   "cell_type": "code",
   "execution_count": 15,
   "metadata": {},
   "outputs": [],
   "source": [
    "# yf.download(ticker, period='1mo' , interval='1h)"
   ]
  },
  {
   "cell_type": "code",
   "execution_count": 17,
   "metadata": {},
   "outputs": [],
   "source": [
    "# yf.download(ticker, period='1mo'' , interval = '5m)"
   ]
  },
  {
   "cell_type": "code",
   "execution_count": null,
   "metadata": {},
   "outputs": [],
   "source": []
  }
 ],
 "metadata": {
  "kernelspec": {
   "display_name": "base",
   "language": "python",
   "name": "python3"
  },
  "language_info": {
   "codemirror_mode": {
    "name": "ipython",
    "version": 3
   },
   "file_extension": ".py",
   "mimetype": "text/x-python",
   "name": "python",
   "nbconvert_exporter": "python",
   "pygments_lexer": "ipython3",
   "version": "3.11.3"
  }
 },
 "nbformat": 4,
 "nbformat_minor": 2
}
