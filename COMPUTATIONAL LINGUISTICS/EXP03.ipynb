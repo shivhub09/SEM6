{
 "cells": [
  {
   "cell_type": "code",
   "execution_count": 13,
   "metadata": {},
   "outputs": [],
   "source": [
    "# example eed\n",
    "\n",
    "def simple_stemmer(word):\n",
    "    if (word[-3:] == \"eed\"):\n",
    "        return word[:-1]\n",
    "    else:\n",
    "        return word"
   ]
  },
  {
   "cell_type": "code",
   "execution_count": 21,
   "metadata": {},
   "outputs": [],
   "source": [
    "def step_1a(word):\n",
    "    if(word[-4:] == 'sses'):\n",
    "        return word[:-2]\n",
    "    elif(word[-3:] == 'ies'):\n",
    "        return word[:-2]\n",
    "    elif (word[-2:] == 'ss'):\n",
    "        return word\n",
    "    elif (word[-1:] == 's'):\n",
    "        return word[:-1]\n",
    "    else:\n",
    "        return word"
   ]
  },
  {
   "cell_type": "code",
   "execution_count": 23,
   "metadata": {},
   "outputs": [],
   "source": [
    "# print(step_1a(\"caresses\"))\n",
    "# print(step_1a(\"cats\"))\n",
    "# print(step_1a(\"ponies\"))\n",
    "# print(step_1a(\"cares\"))"
   ]
  },
  {
   "cell_type": "code",
   "execution_count": 63,
   "metadata": {},
   "outputs": [],
   "source": [
    "def step_1b(word):\n",
    "    if (word[-3:] == \"eed\"):\n",
    "        return word[:-1]\n",
    "    elif (word[-2:] == \"ed\"):\n",
    "        word_check = word[-4:]\n",
    "        if(word_check[:-1] == \"ate\"):\n",
    "            final_word = word[:-1]\n",
    "            return final_word\n",
    "    elif(word[-3:] =='ing'):\n",
    "        return word[:-3]\n",
    "    else:\n",
    "        return word"
   ]
  },
  {
   "cell_type": "code",
   "execution_count": 60,
   "metadata": {},
   "outputs": [
    {
     "name": "stdout",
     "output_type": "stream",
     "text": [
      "ate\n"
     ]
    }
   ],
   "source": []
  },
  {
   "cell_type": "code",
   "execution_count": null,
   "metadata": {},
   "outputs": [],
   "source": []
  },
  {
   "cell_type": "code",
   "execution_count": 50,
   "metadata": {},
   "outputs": [
    {
     "name": "stdout",
     "output_type": "stream",
     "text": [
      "ated\n"
     ]
    }
   ],
   "source": []
  },
  {
   "cell_type": "code",
   "execution_count": null,
   "metadata": {},
   "outputs": [],
   "source": []
  }
 ],
 "metadata": {
  "kernelspec": {
   "display_name": "base",
   "language": "python",
   "name": "python3"
  },
  "language_info": {
   "codemirror_mode": {
    "name": "ipython",
    "version": 3
   },
   "file_extension": ".py",
   "mimetype": "text/x-python",
   "name": "python",
   "nbconvert_exporter": "python",
   "pygments_lexer": "ipython3",
   "version": "3.11.3"
  }
 },
 "nbformat": 4,
 "nbformat_minor": 2
}
