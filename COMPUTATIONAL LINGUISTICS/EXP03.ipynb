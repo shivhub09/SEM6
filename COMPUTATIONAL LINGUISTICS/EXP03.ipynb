{
 "cells": [
  {
   "cell_type": "code",
   "execution_count": 1,
   "metadata": {},
   "outputs": [],
   "source": [
    "# example eed\n",
    "def simple_stemmer(word):\n",
    "    if (word[-3:] == \"eed\"):\n",
    "        return word[:-1]\n",
    "    else:\n",
    "        return word"
   ]
  },
  {
   "cell_type": "code",
   "execution_count": null,
   "metadata": {},
   "outputs": [],
   "source": [
    "def is_consonant(b, i, k0):\n",
    "    if b[i] in 'aeiou':\n",
    "        return False\n",
    "    if b[i] == 'y':\n",
    "        if i == k0:\n",
    "            return True\n",
    "        else:\n",
    "            return not is_consonant(b, i - 1, k0)\n",
    "    return True"
   ]
  },
  {
   "cell_type": "code",
   "execution_count": null,
   "metadata": {},
   "outputs": [],
   "source": [
    "def ends_with(b, s, k):\n",
    "    length = len(s)\n",
    "    if s[length - 1] != b[k]:\n",
    "        return False\n",
    "    if length > k - 0 + 1:\n",
    "        return False\n",
    "    if b[k - length + 1: k - length + 1 + length] != s:\n",
    "        return False\n",
    "    j = k - length\n",
    "    return True, j"
   ]
  },
  {
   "cell_type": "code",
   "execution_count": null,
   "metadata": {},
   "outputs": [],
   "source": [
    "def contains_vowel(b, k, k0):\n",
    "    for i in range(k0, k + 1):\n",
    "        if not is_consonant(b, i, k0):\n",
    "            return True\n",
    "    return False"
   ]
  },
  {
   "cell_type": "code",
   "execution_count": 2,
   "metadata": {},
   "outputs": [],
   "source": [
    "def step_1a(word):\n",
    "    if(word[-4:] == 'sses'):\n",
    "        return word[:-2]\n",
    "    elif(word[-3:] == 'ies'):\n",
    "        return word[:-2]\n",
    "    elif (word[-2:] == 'ss'):\n",
    "        return word\n",
    "    elif (word[-1:] == 's'):\n",
    "        return word[:-1]\n",
    "    else:\n",
    "        return word"
   ]
  },
  {
   "cell_type": "code",
   "execution_count": 6,
   "metadata": {},
   "outputs": [
    {
     "name": "stdout",
     "output_type": "stream",
     "text": [
      "caress\n",
      "cat\n",
      "poni\n",
      "care\n"
     ]
    }
   ],
   "source": [
    "print(step_1a(\"caresses\"))\n",
    "print(step_1a(\"cats\"))\n",
    "print(step_1a(\"ponies\"))\n",
    "print(step_1a(\"cares\"))"
   ]
  },
  {
   "cell_type": "code",
   "execution_count": 11,
   "metadata": {},
   "outputs": [],
   "source": [
    "def step_1b(word):\n",
    "    if (word[-3:] == \"eed\"):\n",
    "        return word[:-1]\n",
    "    elif (word[-2:] == \"ed\"):\n",
    "        word_check = word[-4:]\n",
    "        if(word_check[:-1] == \"ate\"):\n",
    "            final_word = word[:-1]\n",
    "            return final_word\n",
    "    elif(word[-3:] =='ing'):\n",
    "        return word[:-4]\n",
    "    else:\n",
    "        return word"
   ]
  },
  {
   "cell_type": "code",
   "execution_count": 12,
   "metadata": {},
   "outputs": [
    {
     "name": "stdout",
     "output_type": "stream",
     "text": [
      "agree\n",
      "solitude\n",
      "agreement\n",
      "run\n"
     ]
    }
   ],
   "source": [
    "print(step_1b(\"agreed\"))\n",
    "print(step_1b(\"solitude\"))\n",
    "print(step_1b(\"agreement\"))\n",
    "print(step_1b(\"running\"))"
   ]
  },
  {
   "cell_type": "code",
   "execution_count": null,
   "metadata": {},
   "outputs": [],
   "source": [
    "def step_1c(b, k):\n",
    "    ends, _ = ends_with(b, 'y', k)\n",
    "    if ends and contains_vowel(b, k, 0):\n",
    "        b = b[:k] + 'i' + b[k + 1:]"
   ]
  },
  {
   "cell_type": "code",
   "execution_count": null,
   "metadata": {},
   "outputs": [],
   "source": [
    "from nltk.stem import PorterStemmer\n",
    "porter = PorterStemmer()\n",
    "stemmed_words = [porter.stem(word) for word in list_of_words]\n",
    "\n",
    "for word in stemmed_words:\n",
    "    print(word, end=' ')"
   ]
  },
  {
   "cell_type": "code",
   "execution_count": null,
   "metadata": {},
   "outputs": [],
   "source": [
    "\n",
    "\n",
    "def m(b, k, k0):\n",
    "    n = k\n",
    "    i = k0\n",
    "    m_val = 0\n",
    "    while True:\n",
    "        if i > n:\n",
    "            return m_val\n",
    "        if not is_consonant(b, i, k0):\n",
    "            break\n",
    "        i += 1\n",
    "    i += 1\n",
    "    while True:\n",
    "        while True:\n",
    "            if i > n:\n",
    "                return m_val\n",
    "            if is_consonant(b, i, k0):\n",
    "                break\n",
    "            i += 1\n",
    "        i += 1\n",
    "        m_val += 1\n",
    "        while True:\n",
    "            if i > n:\n",
    "                return m_val\n",
    "            if not is_consonant(b, i, k0):\n",
    "                break\n",
    "            i += 1\n",
    "        i += 1\n",
    "\n",
    "\n",
    "\n",
    "def ends_double_consonant(b, j, k0):\n",
    "    if j < k0 + 1:\n",
    "        return False\n",
    "    return b[j] == b[j - 1] and is_consonant(b, j, k0)\n",
    "\n",
    "def cvc(b, i, k0, k):\n",
    "    if i < k0 + 2 or not is_consonant(b, i, k0) or is_consonant(b, i - 1, k0) or not is_consonant(b, i - 2, k0):\n",
    "        return False\n",
    "    ch = b[i]\n",
    "    if ch in 'wxy':\n",
    "        return False\n",
    "    return True\n",
    "\n",
    "\n",
    "def set_to(b, s, j, k):\n",
    "    length = len(s)\n",
    "    b = b[:j + 1] + s + b[j + length + 1:]\n",
    "    k = j + length\n",
    "    return b, k\n",
    "\n",
    "def step_1ab(b, k):\n",
    "    if b[k] == 's':\n",
    "        ends, j = ends_with(b, 'sses', k)\n",
    "        if ends:\n",
    "            k -= 2\n",
    "        else:\n",
    "            ends, _ = ends_with(b, 'ies', k)\n",
    "            if ends and b[k - 1] != 's':\n",
    "                k -= 1\n",
    "    ends, _ = ends_with(b, 'eed', k)\n",
    "    if ends and m(b, k, 0) > 0:\n",
    "        k -= 1\n",
    "    elif (ends_with(b, 'ed', k)[0] or ends_with(b, 'ing', k)[0]) and contains_vowel(b, k, 0):\n",
    "        k = ends_with(b, 'at', k)[1] or k\n",
    "        k = ends_with(b, 'bl', k)[1] or k\n",
    "        k = ends_with(b, 'iz', k)[1] or k\n",
    "        if ends_double_consonant(b, k):\n",
    "            k -= 1\n",
    "            ch = b[k]\n",
    "            if ch in 'lsz':\n",
    "                k += 1\n",
    "        elif m(b, k, 0) == 1 and cvc(b, k):\n",
    "            b, k = set_to(b, 'e', k - 1, k)\n",
    "\n",
    "\n",
    "\n",
    "def step_2(b, k):\n",
    "    if ends_with(b, 'ational', k)[0]:\n",
    "        if m(b, k, 0) > 0:\n",
    "            b, k = set_to(b, 'ate', k - 6, k)\n",
    "    elif ends_with(b, 'tional', k)[0]:\n",
    "        if m(b, k, 0) > 0:\n",
    "            b, k = set_to(b, 'tion', k - 4, k)\n",
    "\n",
    "def step_3(b, k):\n",
    "    if ends_with(b, 'icate', k)[0]:\n",
    "        if m(b, k, 0) > 0:\n",
    "            b, k = set_to(b, 'ic', k - 5, k)\n",
    "\n",
    "def step_4(b, k):\n",
    "    if ends_with(b, 'al', k)[0]:\n",
    "        if m(b, k, 0) > 1:\n",
    "            b = b[:k]\n",
    "\n",
    "def step_5(b, k):\n",
    "    k0 = k\n",
    "    if b[k] == 'e':\n",
    "        a = m(b, k, 0)\n",
    "        if a > 1 or (a == 1 and not cvc(b, k - 1, 0, k)):\n",
    "            k -= 1\n",
    "    if b[k] == 'l' and ends_double_consonant(b, k) and m(b, k, 0) > 1:\n",
    "        k -= 1\n",
    "    return b[:k + 1]\n",
    "\n",
    "def stem(word):\n",
    "    if len(word) <= 2:\n",
    "        return word\n",
    "    b = word\n",
    "    k = len(word) - 1\n",
    "    k0 = 0\n",
    "    step_1ab(b, k)\n",
    "    step_1c(b, k)\n",
    "    step_2(b, k)\n",
    "    step_3(b, k)\n",
    "    step_4(b, k)\n",
    "    return step_5(b, k)\n",
    "\n",
    "# Example usage\n",
    "word = \"likely\"\n",
    "stemmed_word = stem(word)\n",
    "print(stemmed_word)\n"
   ]
  }
 ],
 "metadata": {
  "kernelspec": {
   "display_name": "base",
   "language": "python",
   "name": "python3"
  },
  "language_info": {
   "codemirror_mode": {
    "name": "ipython",
    "version": 3
   },
   "file_extension": ".py",
   "mimetype": "text/x-python",
   "name": "python",
   "nbconvert_exporter": "python",
   "pygments_lexer": "ipython3",
   "version": "0.0.0"
  }
 },
 "nbformat": 4,
 "nbformat_minor": 2
}
