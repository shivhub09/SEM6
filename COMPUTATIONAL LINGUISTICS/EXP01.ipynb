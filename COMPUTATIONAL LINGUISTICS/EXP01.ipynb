{
 "cells": [
  {
   "cell_type": "code",
   "execution_count": 1,
   "metadata": {},
   "outputs": [],
   "source": [
    "# to study and implement the "
   ]
  },
  {
   "cell_type": "code",
   "execution_count": 2,
   "metadata": {},
   "outputs": [],
   "source": [
    "# 1.) tokenization"
   ]
  },
  {
   "cell_type": "code",
   "execution_count": 26,
   "metadata": {},
   "outputs": [
    {
     "name": "stderr",
     "output_type": "stream",
     "text": [
      "[nltk_data] Downloading package punkt to\n",
      "[nltk_data]     C:\\Users\\Shivam\\AppData\\Roaming\\nltk_data...\n",
      "[nltk_data]   Package punkt is already up-to-date!\n",
      "[nltk_data] Downloading package stopwords to\n",
      "[nltk_data]     C:\\Users\\Shivam\\AppData\\Roaming\\nltk_data...\n",
      "[nltk_data]   Package stopwords is already up-to-date!\n"
     ]
    },
    {
     "data": {
      "text/plain": [
       "True"
      ]
     },
     "execution_count": 26,
     "metadata": {},
     "output_type": "execute_result"
    }
   ],
   "source": [
    "import nltk\n",
    "from nltk.tokenize import word_tokenize, sent_tokenize\n",
    "import inflect\n",
    "from nltk.corpus import stopwords\n",
    "nltk.download('punkt')\n",
    "nltk.download('stopwords')"
   ]
  },
  {
   "cell_type": "code",
   "execution_count": 4,
   "metadata": {},
   "outputs": [],
   "source": [
    "sentenc = \"My name is Shivam and I am from 3rd year Data Science from DJSCE College of engineering , 400056 - Mumbai. My date of birth is 9 December 2003\""
   ]
  },
  {
   "cell_type": "code",
   "execution_count": 5,
   "metadata": {},
   "outputs": [],
   "source": [
    "word_tokenize_list = word_tokenize(sentenc)"
   ]
  },
  {
   "cell_type": "code",
   "execution_count": 6,
   "metadata": {},
   "outputs": [
    {
     "name": "stdout",
     "output_type": "stream",
     "text": [
      "word tokens :  <function word_tokenize at 0x00000290A6904E00>\n"
     ]
    }
   ],
   "source": [
    "print(\"word tokens : \", word_tokenize)"
   ]
  },
  {
   "cell_type": "code",
   "execution_count": 7,
   "metadata": {},
   "outputs": [],
   "source": [
    "# 2.) coverting text into lower case"
   ]
  },
  {
   "cell_type": "code",
   "execution_count": 8,
   "metadata": {},
   "outputs": [],
   "source": [
    "word_lower_tokenize = [token.lower() for token in word_tokenize(sentenc)]"
   ]
  },
  {
   "cell_type": "code",
   "execution_count": 9,
   "metadata": {},
   "outputs": [
    {
     "name": "stdout",
     "output_type": "stream",
     "text": [
      "Lowered tokens :  ['my', 'name', 'is', 'shivam', 'and', 'i', 'am', 'from', '3rd', 'year', 'data', 'science', 'from', 'djsce', 'college', 'of', 'engineering', ',', '400056', '-', 'mumbai', '.', 'my', 'date', 'of', 'birth', 'is', '9', 'december', '2003']\n"
     ]
    }
   ],
   "source": [
    "print(\"Lowered tokens : \", word_lower_tokenize)"
   ]
  },
  {
   "cell_type": "code",
   "execution_count": 10,
   "metadata": {},
   "outputs": [],
   "source": [
    "# 3.) removing numbers from the token"
   ]
  },
  {
   "cell_type": "code",
   "execution_count": 11,
   "metadata": {},
   "outputs": [],
   "source": [
    "only_char_tokens = [token for token in word_tokenize(sentenc) if token.isalpha()]\n",
    "only_numbers = [token for token in word_tokenize(sentenc) if not token.isalpha()]"
   ]
  },
  {
   "cell_type": "code",
   "execution_count": 41,
   "metadata": {},
   "outputs": [
    {
     "name": "stdout",
     "output_type": "stream",
     "text": [
      "Only alphabets tokens :  ['My', 'name', 'is', 'Shivam', 'and', 'I', 'am', 'from', 'year', 'Data', 'Science', 'from', 'DJSCE', 'College', 'of', 'engineering', 'Mumbai', 'My', 'date', 'of', 'birth', 'is', 'December']\n",
      "Only Character tokens :  ['3rd', ',', '400056', '-', '.', '9', '2003']\n"
     ]
    }
   ],
   "source": [
    "print(\"Only alphabets tokens : \", only_char_tokens)\n",
    "print(\"Only Character tokens : \", only_numbers)"
   ]
  },
  {
   "cell_type": "code",
   "execution_count": 13,
   "metadata": {},
   "outputs": [],
   "source": [
    "# converting number to words"
   ]
  },
  {
   "cell_type": "code",
   "execution_count": 14,
   "metadata": {},
   "outputs": [
    {
     "name": "stdout",
     "output_type": "stream",
     "text": [
      "The list of tokens with numbers converted into words : ['my', 'name', 'is', 'shivam', 'and', 'i', 'am', 'from', '3rd', 'year', 'data', 'science', 'from', 'djsce', 'college', 'of', 'engineering', ',', 'four hundred thousand and fifty-six', '-', 'mumbai', '.', 'my', 'date', 'of', 'birth', 'is', 'nine', 'december', 'two thousand and three']\n"
     ]
    }
   ],
   "source": [
    "# using inflect object :\n",
    "p = inflect.engine()  \n",
    "word_tokens = [p.number_to_words(token.lower()) if token.isdigit() else token.lower() for token in word_tokenize(sentenc)]\n",
    "\n",
    "print(\"The list of tokens with numbers converted into words :\", word_tokens)"
   ]
  },
  {
   "cell_type": "code",
   "execution_count": 15,
   "metadata": {},
   "outputs": [],
   "source": [
    "# 5.) Remove punctuations "
   ]
  },
  {
   "cell_type": "code",
   "execution_count": 16,
   "metadata": {},
   "outputs": [],
   "source": [
    "no_punctuations_tokens = [token for token in word_tokenize(sentenc) if token.isalpha() or token.isdigit()]"
   ]
  },
  {
   "cell_type": "code",
   "execution_count": 17,
   "metadata": {},
   "outputs": [
    {
     "name": "stdout",
     "output_type": "stream",
     "text": [
      "The list of tokens without punctuation marks are :  ['My', 'name', 'is', 'Shivam', 'and', 'I', 'am', 'from', 'year', 'Data', 'Science', 'from', 'DJSCE', 'College', 'of', 'engineering', '400056', 'Mumbai', 'My', 'date', 'of', 'birth', 'is', '9', 'December', '2003']\n"
     ]
    }
   ],
   "source": [
    "print(\"The list of tokens without punctuation marks are : \", no_punctuations_tokens)"
   ]
  },
  {
   "cell_type": "code",
   "execution_count": 18,
   "metadata": {},
   "outputs": [],
   "source": [
    "# 6.) Remove the white pspaces "
   ]
  },
  {
   "cell_type": "code",
   "execution_count": 19,
   "metadata": {},
   "outputs": [],
   "source": [
    "no_white_spaces_token = [token.strip() for token in word_tokenize(sentenc) if token.isalpha() or token.isdigit()]"
   ]
  },
  {
   "cell_type": "code",
   "execution_count": 20,
   "metadata": {},
   "outputs": [
    {
     "name": "stdout",
     "output_type": "stream",
     "text": [
      "The list of tokens without any white spaces are : ['My', 'name', 'is', 'Shivam', 'and', 'I', 'am', 'from', 'year', 'Data', 'Science', 'from', 'DJSCE', 'College', 'of', 'engineering', '400056', 'Mumbai', 'My', 'date', 'of', 'birth', 'is', '9', 'December', '2003']\n"
     ]
    }
   ],
   "source": [
    "print(\"The list of tokens without any white spaces are :\" , no_white_spaces_token)"
   ]
  },
  {
   "cell_type": "code",
   "execution_count": 43,
   "metadata": {},
   "outputs": [
    {
     "name": "stdout",
     "output_type": "stream",
     "text": [
      "The list of tokens without stop words : ['my', 'name', 'is', 'shivam', 'and', 'i', 'am', 'from', '3rd', 'year', 'data', 'science', 'from', 'djsce', 'college', 'of', 'engineering', ',', '400056', '-', 'mumbai', '.', 'my', 'date', 'of', 'birth', 'is', '9', 'december', '2003']\n"
     ]
    }
   ],
   "source": [
    "from nltk.corpus import stopwords\n",
    "stop_words = set(stopwords.words('english'))\n",
    "\n",
    "no_stop_words_token = [token.lower().strip() for token in word_tokenize(sentenc) if token.lower().isalpha() or token.isdigit() not in stop_words]\n",
    "print(\"The list of tokens without stop words :\", no_stop_words_token)"
   ]
  },
  {
   "cell_type": "code",
   "execution_count": 31,
   "metadata": {},
   "outputs": [
    {
     "name": "stdout",
     "output_type": "stream",
     "text": [
      "My : 2\n",
      "name : 1\n",
      "is : 2\n",
      "Shivam : 1\n",
      "and : 1\n",
      "I : 1\n",
      "am : 1\n",
      "from : 2\n",
      "3rd : 1\n",
      "year : 1\n",
      "Data : 1\n",
      "Science : 1\n",
      "DJSCE : 1\n",
      "College : 1\n",
      "of : 2\n",
      "engineering : 1\n",
      ", : 1\n",
      "400056 : 1\n",
      "- : 1\n",
      "Mumbai : 1\n",
      ". : 1\n",
      "date : 1\n",
      "birth : 1\n",
      "9 : 1\n",
      "December : 1\n",
      "2003 : 1\n"
     ]
    }
   ],
   "source": [
    "from nltk.probability import FreqDist\n",
    "frequency_dist = FreqDist(no_stop_words_token)\n",
    "\n",
    "for word , frequency in frequency_dist.items():\n",
    "    print(f\"{word} : {frequency}\")"
   ]
  },
  {
   "cell_type": "code",
   "execution_count": 32,
   "metadata": {},
   "outputs": [],
   "source": [
    "# stemming"
   ]
  },
  {
   "cell_type": "code",
   "execution_count": 33,
   "metadata": {},
   "outputs": [],
   "source": [
    "# 1.) pOrter Stemmer"
   ]
  },
  {
   "cell_type": "code",
   "execution_count": 36,
   "metadata": {},
   "outputs": [
    {
     "name": "stdout",
     "output_type": "stream",
     "text": [
      "The stemming using porter stemmer :  ['my', 'name', 'is', 'shivam', 'and', 'i', 'am', 'from', '3rd', 'year', 'data', 'scienc', 'from', 'djsce', 'colleg', 'of', 'engin', ',', '400056', '-', 'mumbai', '.', 'my', 'date', 'of', 'birth', 'is', '9', 'decemb', '2003']\n"
     ]
    }
   ],
   "source": [
    "from nltk.stem import PorterStemmer\n",
    "porter = PorterStemmer()\n",
    "stemmed_words = [porter.stem(word) for word in no_stop_words_token]\n",
    "print(\"The stemming using porter stemmer : \", stemmed_words)"
   ]
  },
  {
   "cell_type": "code",
   "execution_count": 37,
   "metadata": {},
   "outputs": [],
   "source": [
    "# 2.) Lancaster stemmer :"
   ]
  },
  {
   "cell_type": "code",
   "execution_count": 39,
   "metadata": {},
   "outputs": [
    {
     "name": "stdout",
     "output_type": "stream",
     "text": [
      "The stemming of words using lancaster stemmer :  ['my', 'nam', 'is', 'shivam', 'and', 'i', 'am', 'from', '3rd', 'year', 'dat', 'sci', 'from', 'djsce', 'colleg', 'of', 'engin', ',', '400056', '-', 'mumba', '.', 'my', 'dat', 'of', 'bir', 'is', '9', 'decemb', '2003']\n"
     ]
    }
   ],
   "source": [
    "from nltk.stem import LancasterStemmer\n",
    "\n",
    "lancaster = LancasterStemmer()\n",
    "stemmed_words = [lancaster.stem(word) for word in no_stop_words_token]\n",
    "print(\"The stemming of words using lancaster stemmer : \", stemmed_words)\n"
   ]
  },
  {
   "cell_type": "code",
   "execution_count": null,
   "metadata": {},
   "outputs": [],
   "source": []
  }
 ],
 "metadata": {
  "kernelspec": {
   "display_name": "base",
   "language": "python",
   "name": "python3"
  },
  "language_info": {
   "codemirror_mode": {
    "name": "ipython",
    "version": 3
   },
   "file_extension": ".py",
   "mimetype": "text/x-python",
   "name": "python",
   "nbconvert_exporter": "python",
   "pygments_lexer": "ipython3",
   "version": "3.11.3"
  }
 },
 "nbformat": 4,
 "nbformat_minor": 2
}
