{
 "cells": [
  {
   "cell_type": "code",
   "execution_count": 2,
   "metadata": {},
   "outputs": [],
   "source": [
    "# 1.) tokenization"
   ]
  },
  {
   "cell_type": "code",
   "execution_count": 1,
   "metadata": {},
   "outputs": [
    {
     "name": "stderr",
     "output_type": "stream",
     "text": [
      "[nltk_data] Downloading package punkt to\n",
      "[nltk_data]     C:\\Users\\Shivam\\AppData\\Roaming\\nltk_data...\n",
      "[nltk_data]   Package punkt is already up-to-date!\n",
      "[nltk_data] Downloading package stopwords to\n",
      "[nltk_data]     C:\\Users\\Shivam\\AppData\\Roaming\\nltk_data...\n",
      "[nltk_data]   Package stopwords is already up-to-date!\n"
     ]
    },
    {
     "data": {
      "text/plain": [
       "True"
      ]
     },
     "execution_count": 1,
     "metadata": {},
     "output_type": "execute_result"
    }
   ],
   "source": [
    "import nltk\n",
    "from nltk.tokenize import word_tokenize, sent_tokenize\n",
    "import inflect\n",
    "from nltk.corpus import stopwords\n",
    "nltk.download('punkt')\n",
    "nltk.download('stopwords')"
   ]
  },
  {
   "cell_type": "code",
   "execution_count": 2,
   "metadata": {},
   "outputs": [],
   "source": [
    "sentenc = \"My name is Shivam and I am from 3rd year Data Science from DJSCE College of engineering , 400056 - Mumbai. My date of birth is 9 December 2003\""
   ]
  },
  {
   "cell_type": "code",
   "execution_count": 3,
   "metadata": {},
   "outputs": [],
   "source": [
    "word_tokenize_list = word_tokenize(sentenc)"
   ]
  },
  {
   "cell_type": "code",
   "execution_count": 4,
   "metadata": {},
   "outputs": [
    {
     "name": "stdout",
     "output_type": "stream",
     "text": [
      "word tokens :  <function word_tokenize at 0x000001CEA9774EA0>\n"
     ]
    }
   ],
   "source": [
    "print(\"word tokens : \", word_tokenize)"
   ]
  },
  {
   "cell_type": "code",
   "execution_count": 5,
   "metadata": {},
   "outputs": [],
   "source": [
    "# 2.) coverting text into lower case"
   ]
  },
  {
   "cell_type": "code",
   "execution_count": 6,
   "metadata": {},
   "outputs": [],
   "source": [
    "word_lower_tokenize = [token.lower() for token in word_tokenize(sentenc)]"
   ]
  },
  {
   "cell_type": "code",
   "execution_count": 30,
   "metadata": {},
   "outputs": [
    {
     "name": "stdout",
     "output_type": "stream",
     "text": [
      "my name is shivam and i am from 3rd year data science from djsce college of engineering , 400056 - mumbai . my date of birth is 9 december 2003 "
     ]
    }
   ],
   "source": [
    "for token in word_lower_tokenize:\n",
    "    print(token, end=' ')"
   ]
  },
  {
   "cell_type": "code",
   "execution_count": 10,
   "metadata": {},
   "outputs": [],
   "source": [
    "# 3.) removing numbers from the token"
   ]
  },
  {
   "cell_type": "code",
   "execution_count": 8,
   "metadata": {},
   "outputs": [],
   "source": [
    "only_char_tokens = [token for token in word_tokenize(sentenc) if token.isalpha()]\n",
    "only_numbers = [token for token in word_tokenize(sentenc) if not token.isalpha()]"
   ]
  },
  {
   "cell_type": "code",
   "execution_count": 41,
   "metadata": {},
   "outputs": [
    {
     "name": "stdout",
     "output_type": "stream",
     "text": [
      "Only alphabets tokens :  ['My', 'name', 'is', 'Shivam', 'and', 'I', 'am', 'from', 'year', 'Data', 'Science', 'from', 'DJSCE', 'College', 'of', 'engineering', 'Mumbai', 'My', 'date', 'of', 'birth', 'is', 'December']\n",
      "Only Character tokens :  ['3rd', ',', '400056', '-', '.', '9', '2003']\n"
     ]
    }
   ],
   "source": [
    "print(\"Only alphabets tokens : \", only_char_tokens)\n",
    "print(\"Only Character tokens : \", only_numbers)"
   ]
  },
  {
   "cell_type": "code",
   "execution_count": 29,
   "metadata": {},
   "outputs": [
    {
     "name": "stdout",
     "output_type": "stream",
     "text": [
      "My name is Shivam and I am from year Data Science from DJSCE College of engineering Mumbai My date of birth is December "
     ]
    }
   ],
   "source": [
    "for token in only_char_tokens:\n",
    "    print(token, end=' ')"
   ]
  },
  {
   "cell_type": "code",
   "execution_count": 13,
   "metadata": {},
   "outputs": [],
   "source": [
    "# converting number to words"
   ]
  },
  {
   "cell_type": "code",
   "execution_count": 28,
   "metadata": {},
   "outputs": [
    {
     "name": "stdout",
     "output_type": "stream",
     "text": [
      "my name is shivam and i am from 3rd year data science from djsce college of engineering , four hundred thousand and fifty-six - mumbai . my date of birth is nine december two thousand and three "
     ]
    }
   ],
   "source": [
    "# using inflect object :\n",
    "p = inflect.engine()  \n",
    "word_tokens = [p.number_to_words(token.lower()) if token.isdigit() else token.lower() for token in word_tokenize(sentenc)]\n",
    "\n",
    "# print(\"The list of tokens with numbers converted into words :\", word_tokens)\n",
    "for word in word_tokens:\n",
    "    print(word, end=' ')"
   ]
  },
  {
   "cell_type": "code",
   "execution_count": 15,
   "metadata": {},
   "outputs": [],
   "source": [
    "# 5.) Remove punctuations "
   ]
  },
  {
   "cell_type": "code",
   "execution_count": 12,
   "metadata": {},
   "outputs": [],
   "source": [
    "no_punctuations_tokens = [token for token in word_tokenize(sentenc) if token.isalpha() or token.isdigit()]"
   ]
  },
  {
   "cell_type": "code",
   "execution_count": 27,
   "metadata": {},
   "outputs": [
    {
     "name": "stdout",
     "output_type": "stream",
     "text": [
      "My name is Shivam and I am from year Data Science from DJSCE College of engineering 400056 Mumbai My date of birth is 9 December 2003 "
     ]
    }
   ],
   "source": [
    "for token in no_punctuations_tokens:\n",
    "    print(token, end=' ')"
   ]
  },
  {
   "cell_type": "code",
   "execution_count": 16,
   "metadata": {},
   "outputs": [],
   "source": [
    "no_white_spaces_token = [token.strip() for token in word_tokenize(sentenc) if token.isalpha() or token.isdigit()]"
   ]
  },
  {
   "cell_type": "code",
   "execution_count": 25,
   "metadata": {},
   "outputs": [
    {
     "name": "stdout",
     "output_type": "stream",
     "text": [
      "My name is Shivam and I am from year Data Science from DJSCE College of engineering 400056 Mumbai My date of birth is 9 December 2003 "
     ]
    }
   ],
   "source": [
    "for token in no_white_spaces_token:\n",
    "    print(token, end=' ')"
   ]
  },
  {
   "cell_type": "code",
   "execution_count": 24,
   "metadata": {},
   "outputs": [
    {
     "name": "stdout",
     "output_type": "stream",
     "text": [
      "my name is shivam and i am from 3rd year data science from djsce college of engineering , 400056 - mumbai . my date of birth is 9 december 2003 "
     ]
    }
   ],
   "source": [
    "from nltk.corpus import stopwords\n",
    "stop_words = set(stopwords.words('english'))\n",
    "\n",
    "no_stop_words_token = [token.lower().strip() for token in word_tokenize(sentenc) if token.lower().isalpha() or token.isdigit() not in stop_words]\n",
    "for token in no_stop_words_token:\n",
    "    print(token, end=' ')"
   ]
  },
  {
   "cell_type": "code",
   "execution_count": 31,
   "metadata": {},
   "outputs": [
    {
     "name": "stdout",
     "output_type": "stream",
     "text": [
      "My : 2\n",
      "name : 1\n",
      "is : 2\n",
      "Shivam : 1\n",
      "and : 1\n",
      "I : 1\n",
      "am : 1\n",
      "from : 2\n",
      "3rd : 1\n",
      "year : 1\n",
      "Data : 1\n",
      "Science : 1\n",
      "DJSCE : 1\n",
      "College : 1\n",
      "of : 2\n",
      "engineering : 1\n",
      ", : 1\n",
      "400056 : 1\n",
      "- : 1\n",
      "Mumbai : 1\n",
      ". : 1\n",
      "date : 1\n",
      "birth : 1\n",
      "9 : 1\n",
      "December : 1\n",
      "2003 : 1\n"
     ]
    }
   ],
   "source": [
    "from nltk.probability import FreqDist\n",
    "frequency_dist = FreqDist(no_stop_words_token)\n",
    "\n",
    "for word , frequency in frequency_dist.items():\n",
    "    print(f\"{word} : {frequency}\")"
   ]
  },
  {
   "cell_type": "code",
   "execution_count": 32,
   "metadata": {},
   "outputs": [],
   "source": [
    "# stemming"
   ]
  },
  {
   "cell_type": "code",
   "execution_count": 33,
   "metadata": {},
   "outputs": [],
   "source": [
    "# 1.) pOrter Stemmer"
   ]
  },
  {
   "cell_type": "code",
   "execution_count": 23,
   "metadata": {},
   "outputs": [
    {
     "name": "stdout",
     "output_type": "stream",
     "text": [
      "my name is shivam and i am from 3rd year data scienc from djsce colleg of engin , 400056 - mumbai . my date of birth is 9 decemb 2003 "
     ]
    }
   ],
   "source": [
    "from nltk.stem import PorterStemmer\n",
    "porter = PorterStemmer()\n",
    "stemmed_words = [porter.stem(word) for word in no_stop_words_token]\n",
    "\n",
    "for word in stemmed_words:\n",
    "    print(word, end=' ')"
   ]
  },
  {
   "cell_type": "code",
   "execution_count": 37,
   "metadata": {},
   "outputs": [],
   "source": [
    "# 2.) Lancaster stemme"
   ]
  },
  {
   "cell_type": "code",
   "execution_count": 22,
   "metadata": {},
   "outputs": [
    {
     "name": "stdout",
     "output_type": "stream",
     "text": [
      "my nam is shivam and i am from 3rd year dat sci from djsce colleg of engin , 400056 - mumba . my dat of bir is 9 decemb 2003 "
     ]
    }
   ],
   "source": [
    "from nltk.stem import LancasterStemmer\n",
    "lancaster = LancasterStemmer()\n",
    "stemmed_words = [lancaster.stem(word) for word in no_stop_words_token]\n",
    "\n",
    "for token in stemmed_words:\n",
    "    print(token, end=' ')"
   ]
  },
  {
   "cell_type": "code",
   "execution_count": 21,
   "metadata": {},
   "outputs": [
    {
     "name": "stderr",
     "output_type": "stream",
     "text": [
      "[nltk_data] Downloading package punkt to\n",
      "[nltk_data]     C:\\Users\\Shivam\\AppData\\Roaming\\nltk_data...\n",
      "[nltk_data]   Package punkt is already up-to-date!\n",
      "[nltk_data] Downloading package stopwords to\n",
      "[nltk_data]     C:\\Users\\Shivam\\AppData\\Roaming\\nltk_data...\n",
      "[nltk_data]   Package stopwords is already up-to-date!\n",
      "[nltk_data] Downloading package wordnet to\n",
      "[nltk_data]     C:\\Users\\Shivam\\AppData\\Roaming\\nltk_data...\n",
      "[nltk_data]   Package wordnet is already up-to-date!\n"
     ]
    },
    {
     "name": "stdout",
     "output_type": "stream",
     "text": [
      "Lemmatized tokens: ['name', 'shivam', '.', 'datascience', 'third', 'year', '.'] \n",
      "\n"
     ]
    }
   ],
   "source": [
    "import nltk\n",
    "from nltk.tokenize import word_tokenize\n",
    "from nltk.stem import PorterStemmer, WordNetLemmatizer\n",
    "from nltk.corpus import stopwords\n",
    "\n",
    "nltk.download('punkt')\n",
    "nltk.download('stopwords')\n",
    "nltk.download('wordnet')\n",
    "\n",
    "sentence = \"My name is shivam. I am from datascience third year.\"\n",
    "\n",
    "tokens = word_tokenize(sentence)\n",
    "stop_words = set(stopwords.words('english'))\n",
    "tokens_cleaned = [token.lower() for token in tokens if token.lower() not in stop_words]\n",
    "wordnet_lemmatizer = WordNetLemmatizer()\n",
    "\n",
    "lemmatized_tokens = [wordnet_lemmatizer.lemmatize(token) for token in tokens_cleaned]\n",
    "\n",
    "print(\"Lemmatized tokens:\", lemmatized_tokens,\"\\n\")"
   ]
  },
  {
   "cell_type": "code",
   "execution_count": null,
   "metadata": {},
   "outputs": [],
   "source": []
  }
 ],
 "metadata": {
  "kernelspec": {
   "display_name": "base",
   "language": "python",
   "name": "python3"
  },
  "language_info": {
   "codemirror_mode": {
    "name": "ipython",
    "version": 3
   },
   "file_extension": ".py",
   "mimetype": "text/x-python",
   "name": "python",
   "nbconvert_exporter": "python",
   "pygments_lexer": "ipython3",
   "version": "3.11.3"
  }
 },
 "nbformat": 4,
 "nbformat_minor": 2
}
