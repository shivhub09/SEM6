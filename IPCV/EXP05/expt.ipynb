{
 "cells": [
  {
   "cell_type": "code",
   "execution_count": 1,
   "metadata": {},
   "outputs": [],
   "source": [
    "import cv2\n",
    "import numpy as np\n",
    "\n",
    "def median_filter(image, kernel_size):\n",
    "  \"\"\"\n",
    "  Performs median filtering on an image.\n",
    "\n",
    "  Args:\n",
    "      image: Input image as a NumPy array.\n",
    "      kernel_size: Kernel size for the median filter (must be odd).\n",
    "\n",
    "  Returns:\n",
    "      The median filtered image as a NumPy array.\n",
    "  \"\"\"\n",
    "\n",
    "  # Error handling for even kernel size\n",
    "  if kernel_size % 2 != 1:\n",
    "    raise ValueError(\"Kernel size must be an odd integer\")\n",
    "\n",
    "  # Pad the image to handle boundary conditions\n",
    "  pad_width = int((kernel_size - 1) / 2)\n",
    "  padded_img = cv2.copyMakeBorder(image, pad_width, pad_width, pad_width, pad_width, cv2.BORDER_REPLICATE)\n",
    "\n",
    "  # Output image initialization\n",
    "  filtered_img = np.zeros_like(image)\n",
    "\n",
    "  # Iterate through each pixel (excluding borders due to padding)\n",
    "  for i in range(pad_width, image.shape[0] + pad_width):\n",
    "    for j in range(pad_width, image.shape[1] + pad_width):\n",
    "      # Extract the neighborhood around the current pixel\n",
    "      neighborhood = padded_img[i-pad_width:i+pad_width+1, j-pad_width:j+pad_width+1]\n",
    "\n",
    "      # Flatten the neighborhood into a 1D array\n",
    "      flat_neighborhood = neighborhood.flatten()\n",
    "\n",
    "      # Sort the neighborhood and get the median value\n",
    "      median_value = np.median(flat_neighborhood)\n",
    "\n",
    "      # Assign the median value to the corresponding pixel in the output image\n",
    "      filtered_img[i-pad_width, j-pad_width] = median_value\n",
    "\n",
    "  return filtered_img\n",
    "\n",
    "# Load your image here (replace with your image path)\n",
    "image = cv2.imread(\"img.jpg\")\n",
    "\n",
    "# Apply median filter with a kernel size of 3 (common choice)\n",
    "filtered_image = median_filter(image.copy(), 3)\n",
    "\n",
    "# Display original and filtered images\n",
    "cv2.imshow(\"Original Image\", image)\n",
    "cv2.imshow(\"Median Filtered Image\", filtered_image)\n",
    "cv2.waitKey(0)\n",
    "cv2.destroyAllWindows()\n"
   ]
  },
  {
   "cell_type": "code",
   "execution_count": null,
   "metadata": {},
   "outputs": [],
   "source": []
  }
 ],
 "metadata": {
  "kernelspec": {
   "display_name": "base",
   "language": "python",
   "name": "python3"
  },
  "language_info": {
   "codemirror_mode": {
    "name": "ipython",
    "version": 3
   },
   "file_extension": ".py",
   "mimetype": "text/x-python",
   "name": "python",
   "nbconvert_exporter": "python",
   "pygments_lexer": "ipython3",
   "version": "3.11.3"
  }
 },
 "nbformat": 4,
 "nbformat_minor": 2
}
