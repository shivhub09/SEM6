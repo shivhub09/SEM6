{
 "cells": [
  {
   "cell_type": "code",
   "execution_count": 1,
   "metadata": {},
   "outputs": [
    {
     "name": "stdout",
     "output_type": "stream",
     "text": [
      "Requirement already satisfied: gym in c:\\users\\shivam\\anaconda3\\lib\\site-packages (0.26.2)\n",
      "Requirement already satisfied: numpy>=1.18.0 in c:\\users\\shivam\\anaconda3\\lib\\site-packages (from gym) (1.24.3)\n",
      "Requirement already satisfied: cloudpickle>=1.2.0 in c:\\users\\shivam\\anaconda3\\lib\\site-packages (from gym) (2.2.1)\n",
      "Requirement already satisfied: gym-notices>=0.0.4 in c:\\users\\shivam\\anaconda3\\lib\\site-packages (from gym) (0.0.8)\n"
     ]
    }
   ],
   "source": [
    "!pip install gym"
   ]
  },
  {
   "cell_type": "code",
   "execution_count": 2,
   "metadata": {},
   "outputs": [],
   "source": [
    "import gym\n",
    "import random"
   ]
  },
  {
   "cell_type": "code",
   "execution_count": 3,
   "metadata": {},
   "outputs": [],
   "source": [
    "env = gym.make(\"CartPole-v1\")\n",
    "states = env.observation_space.shape[0]\n",
    "actions = env.action_space.n"
   ]
  },
  {
   "cell_type": "code",
   "execution_count": 4,
   "metadata": {},
   "outputs": [
    {
     "data": {
      "text/plain": [
       "4"
      ]
     },
     "execution_count": 4,
     "metadata": {},
     "output_type": "execute_result"
    }
   ],
   "source": [
    "states"
   ]
  },
  {
   "cell_type": "code",
   "execution_count": 5,
   "metadata": {},
   "outputs": [
    {
     "data": {
      "text/plain": [
       "2"
      ]
     },
     "execution_count": 5,
     "metadata": {},
     "output_type": "execute_result"
    }
   ],
   "source": [
    "actions"
   ]
  },
  {
   "cell_type": "code",
   "execution_count": 6,
   "metadata": {},
   "outputs": [
    {
     "name": "stdout",
     "output_type": "stream",
     "text": [
      "Episode : 1 Score : 19.0\n",
      "Episode : 2 Score : 26.0\n",
      "Episode : 3 Score : 16.0\n",
      "Episode : 4 Score : 20.0\n",
      "Episode : 5 Score : 17.0\n",
      "Episode : 6 Score : 22.0\n",
      "Episode : 7 Score : 28.0\n",
      "Episode : 8 Score : 23.0\n",
      "Episode : 9 Score : 18.0\n",
      "Episode : 10 Score : 29.0\n"
     ]
    },
    {
     "name": "stderr",
     "output_type": "stream",
     "text": [
      "c:\\Users\\Shivam\\anaconda3\\Lib\\site-packages\\gym\\envs\\classic_control\\cartpole.py:211: UserWarning: \u001b[33mWARN: You are calling render method without specifying any render mode. You can specify the render_mode at initialization, e.g. gym(\"CartPole-v1\", render_mode=\"rgb_array\")\u001b[0m\n",
      "  gym.logger.warn(\n",
      "c:\\Users\\Shivam\\anaconda3\\Lib\\site-packages\\gym\\utils\\passive_env_checker.py:233: DeprecationWarning: `np.bool8` is a deprecated alias for `np.bool_`.  (Deprecated NumPy 1.24)\n",
      "  if not isinstance(terminated, (bool, np.bool8)):\n"
     ]
    }
   ],
   "source": [
    "episodes = 10\n",
    "for episode in range(1,episodes+1):\n",
    "    state = env.reset()\n",
    "    done = False\n",
    "    score = 0 \n",
    "\n",
    "    while not done:\n",
    "        env.render()\n",
    "        action = random.choice([0,1])\n",
    "        n_state, reward, done , info,_ = env.step(action)\n",
    "        score = score + reward\n",
    "    print(\"Episode : {} Score : {}\".format(episode , score))"
   ]
  },
  {
   "cell_type": "code",
   "execution_count": 7,
   "metadata": {},
   "outputs": [
    {
     "name": "stdout",
     "output_type": "stream",
     "text": [
      "Episode : 1 Score : 17.0 State: [-0.08535787 -0.21042907  0.22143607  0.67147326] Info : False\n",
      "Episode : 2 Score : 10.0 State: [ 0.18753411  0.80737585 -0.2373407  -1.4543425 ] Info : False\n",
      "Episode : 3 Score : 16.0 State: [-0.12904447 -1.1693643   0.22256355  1.9585018 ] Info : False\n",
      "Episode : 4 Score : 11.0 State: [-0.16703151 -1.3749739   0.21125092  2.1157274 ] Info : False\n",
      "Episode : 5 Score : 17.0 State: [ 0.1384453   0.9774907  -0.23065881 -1.841644  ] Info : False\n",
      "Episode : 6 Score : 15.0 State: [ 0.21090055  1.0073441  -0.22888233 -1.658723  ] Info : False\n",
      "Episode : 7 Score : 18.0 State: [-0.13486151 -1.2159168   0.21274933  1.9894408 ] Info : False\n",
      "Episode : 8 Score : 16.0 State: [-0.17229916 -0.8046468   0.21497446  1.430481  ] Info : False\n",
      "Episode : 9 Score : 12.0 State: [ 0.16070363  0.8017963  -0.23167449 -1.5635757 ] Info : False\n",
      "Episode : 10 Score : 14.0 State: [ 0.11126409  1.159858   -0.23806384 -2.1187541 ] Info : False\n"
     ]
    }
   ],
   "source": [
    "import gym\n",
    "import random\n",
    "import time\n",
    "\n",
    "env = gym.make('CartPole-v1')\n",
    "\n",
    "episodes = 10\n",
    "\n",
    "for episode in range(1, episodes + 1):\n",
    "    state = env.reset()\n",
    "    done = False\n",
    "    score = 0\n",
    "\n",
    "    while not done:\n",
    "        env.render()\n",
    "        action = random.choice([0, 1])\n",
    "        n_state, reward, done, info ,_= env.step(action)\n",
    "        score += reward\n",
    "        time.sleep(0.01)  # Add a small delay (adjust as needed)\n",
    "\n",
    "    print(\"Episode : {} Score : {} State: {} Info : {}\".format(episode, score, n_state, info))\n",
    "\n",
    "env.close()  "
   ]
  },
  {
   "cell_type": "code",
   "execution_count": 12,
   "metadata": {},
   "outputs": [
    {
     "name": "stdout",
     "output_type": "stream",
     "text": [
      "Episode : 1 Score : 21.0 State: [-0.17016251 -0.62247103  0.21837686  1.1259913 ] Info : False\n",
      "Episode : 2 Score : 63.0 State: [-0.09803826  0.17858393 -0.22441125 -0.71167094] Info : False\n",
      "Episode : 3 Score : 15.0 State: [ 0.1738572   0.9669628  -0.23536985 -1.8064203 ] Info : False\n",
      "Episode : 4 Score : 24.0 State: [ 0.14501421  0.82184327 -0.21921024 -1.4300387 ] Info : False\n",
      "Episode : 5 Score : 30.0 State: [ 0.2716872   1.1680729  -0.22747102 -1.674877  ] Info : False\n",
      "Episode : 6 Score : 8.0 State: [-0.09799123 -1.1542988   0.21309729  1.9191543 ] Info : False\n",
      "Episode : 7 Score : 23.0 State: [ 0.0975973   0.17906499 -0.2143706  -0.80359626] Info : False\n",
      "Episode : 8 Score : 12.0 State: [ 0.14157864  0.76447165 -0.23530886 -1.5007628 ] Info : False\n",
      "Episode : 9 Score : 19.0 State: [ 0.15030774  1.4119959  -0.22318166 -2.326174  ] Info : False\n",
      "Episode : 10 Score : 28.0 State: [-0.06703714  0.35467225  0.21498421  0.16615544] Info : False\n",
      "Episode : 11 Score : 14.0 State: [-0.06063107 -0.75864464  0.22099814  1.6757686 ] Info : False\n",
      "Episode : 12 Score : 12.0 State: [ 0.1909252   1.1859058  -0.22772478 -1.899388  ] Info : False\n",
      "Episode : 13 Score : 20.0 State: [-0.10682386 -1.2199658   0.24019697  2.0803015 ] Info : False\n",
      "Episode : 14 Score : 20.0 State: [ 0.09624086  0.42373478 -0.21735482 -1.0410762 ] Info : False\n",
      "Episode : 15 Score : 19.0 State: [ 0.2289815  1.7561059 -0.2558897 -2.6513114] Info : False\n",
      "Episode : 16 Score : 30.0 State: [ 0.14557794  0.7786544  -0.22973931 -1.8287333 ] Info : False\n",
      "Episode : 17 Score : 20.0 State: [-0.13291839 -0.823535    0.2154193   1.5098997 ] Info : False\n",
      "Episode : 18 Score : 41.0 State: [ 0.06501926  0.17801248 -0.21830916 -0.803449  ] Info : False\n",
      "Episode : 19 Score : 9.0 State: [ 0.10172077  0.9357162  -0.22697501 -1.7128534 ] Info : False\n",
      "Episode : 20 Score : 52.0 State: [ 0.45597008  1.5017726  -0.21482064 -1.6520823 ] Info : False\n"
     ]
    }
   ],
   "source": [
    "import gym\n",
    "import random\n",
    "import time\n",
    "\n",
    "\n",
    "env = gym.make('CartPole-v1', render_mode ='human')\n",
    "\n",
    "# Create a monitor wrapper\n",
    "\n",
    "episodes = 20\n",
    "\n",
    "for episode in range(1, episodes + 1):\n",
    "    state = env.reset()\n",
    "    done = False\n",
    "    score = 0\n",
    "\n",
    "    while not done:\n",
    "        action = random.choice([0, 1])\n",
    "        n_state, reward, done, info , _= env.step(action)\n",
    "        score += reward\n",
    "        # time.sleep(0.01)  # Add a small delay (adjust as needed)\n",
    "        env.render()\n",
    "\n",
    "\n",
    "    print(\"Episode : {} Score : {} State: {} Info : {}\".format(episode, score, n_state, info))\n",
    "\n",
    "env.close()"
   ]
  },
  {
   "cell_type": "code",
   "execution_count": 4,
   "metadata": {},
   "outputs": [
    {
     "name": "stdout",
     "output_type": "stream",
     "text": [
      "\u001b[1;31mType:\u001b[0m        module\n",
      "\u001b[1;31mString form:\u001b[0m <module 'gym.wrappers' from 'c:\\\\Users\\\\Shivam\\\\anaconda3\\\\Lib\\\\site-packages\\\\gym\\\\wrappers\\\\__init__.py'>\n",
      "\u001b[1;31mFile:\u001b[0m        c:\\users\\shivam\\anaconda3\\lib\\site-packages\\gym\\wrappers\\__init__.py\n",
      "\u001b[1;31mSource:\u001b[0m     \n",
      "\u001b[1;34m\"\"\"Module of wrapper classes.\"\"\"\u001b[0m\u001b[1;33m\n",
      "\u001b[0m\u001b[1;32mfrom\u001b[0m \u001b[0mgym\u001b[0m \u001b[1;32mimport\u001b[0m \u001b[0merror\u001b[0m\u001b[1;33m\n",
      "\u001b[0m\u001b[1;32mfrom\u001b[0m \u001b[0mgym\u001b[0m\u001b[1;33m.\u001b[0m\u001b[0mwrappers\u001b[0m\u001b[1;33m.\u001b[0m\u001b[0matari_preprocessing\u001b[0m \u001b[1;32mimport\u001b[0m \u001b[0mAtariPreprocessing\u001b[0m\u001b[1;33m\n",
      "\u001b[0m\u001b[1;32mfrom\u001b[0m \u001b[0mgym\u001b[0m\u001b[1;33m.\u001b[0m\u001b[0mwrappers\u001b[0m\u001b[1;33m.\u001b[0m\u001b[0mautoreset\u001b[0m \u001b[1;32mimport\u001b[0m \u001b[0mAutoResetWrapper\u001b[0m\u001b[1;33m\n",
      "\u001b[0m\u001b[1;32mfrom\u001b[0m \u001b[0mgym\u001b[0m\u001b[1;33m.\u001b[0m\u001b[0mwrappers\u001b[0m\u001b[1;33m.\u001b[0m\u001b[0mclip_action\u001b[0m \u001b[1;32mimport\u001b[0m \u001b[0mClipAction\u001b[0m\u001b[1;33m\n",
      "\u001b[0m\u001b[1;32mfrom\u001b[0m \u001b[0mgym\u001b[0m\u001b[1;33m.\u001b[0m\u001b[0mwrappers\u001b[0m\u001b[1;33m.\u001b[0m\u001b[0mfilter_observation\u001b[0m \u001b[1;32mimport\u001b[0m \u001b[0mFilterObservation\u001b[0m\u001b[1;33m\n",
      "\u001b[0m\u001b[1;32mfrom\u001b[0m \u001b[0mgym\u001b[0m\u001b[1;33m.\u001b[0m\u001b[0mwrappers\u001b[0m\u001b[1;33m.\u001b[0m\u001b[0mflatten_observation\u001b[0m \u001b[1;32mimport\u001b[0m \u001b[0mFlattenObservation\u001b[0m\u001b[1;33m\n",
      "\u001b[0m\u001b[1;32mfrom\u001b[0m \u001b[0mgym\u001b[0m\u001b[1;33m.\u001b[0m\u001b[0mwrappers\u001b[0m\u001b[1;33m.\u001b[0m\u001b[0mframe_stack\u001b[0m \u001b[1;32mimport\u001b[0m \u001b[0mFrameStack\u001b[0m\u001b[1;33m,\u001b[0m \u001b[0mLazyFrames\u001b[0m\u001b[1;33m\n",
      "\u001b[0m\u001b[1;32mfrom\u001b[0m \u001b[0mgym\u001b[0m\u001b[1;33m.\u001b[0m\u001b[0mwrappers\u001b[0m\u001b[1;33m.\u001b[0m\u001b[0mgray_scale_observation\u001b[0m \u001b[1;32mimport\u001b[0m \u001b[0mGrayScaleObservation\u001b[0m\u001b[1;33m\n",
      "\u001b[0m\u001b[1;32mfrom\u001b[0m \u001b[0mgym\u001b[0m\u001b[1;33m.\u001b[0m\u001b[0mwrappers\u001b[0m\u001b[1;33m.\u001b[0m\u001b[0mhuman_rendering\u001b[0m \u001b[1;32mimport\u001b[0m \u001b[0mHumanRendering\u001b[0m\u001b[1;33m\n",
      "\u001b[0m\u001b[1;32mfrom\u001b[0m \u001b[0mgym\u001b[0m\u001b[1;33m.\u001b[0m\u001b[0mwrappers\u001b[0m\u001b[1;33m.\u001b[0m\u001b[0mnormalize\u001b[0m \u001b[1;32mimport\u001b[0m \u001b[0mNormalizeObservation\u001b[0m\u001b[1;33m,\u001b[0m \u001b[0mNormalizeReward\u001b[0m\u001b[1;33m\n",
      "\u001b[0m\u001b[1;32mfrom\u001b[0m \u001b[0mgym\u001b[0m\u001b[1;33m.\u001b[0m\u001b[0mwrappers\u001b[0m\u001b[1;33m.\u001b[0m\u001b[0morder_enforcing\u001b[0m \u001b[1;32mimport\u001b[0m \u001b[0mOrderEnforcing\u001b[0m\u001b[1;33m\n",
      "\u001b[0m\u001b[1;32mfrom\u001b[0m \u001b[0mgym\u001b[0m\u001b[1;33m.\u001b[0m\u001b[0mwrappers\u001b[0m\u001b[1;33m.\u001b[0m\u001b[0mrecord_episode_statistics\u001b[0m \u001b[1;32mimport\u001b[0m \u001b[0mRecordEpisodeStatistics\u001b[0m\u001b[1;33m\n",
      "\u001b[0m\u001b[1;32mfrom\u001b[0m \u001b[0mgym\u001b[0m\u001b[1;33m.\u001b[0m\u001b[0mwrappers\u001b[0m\u001b[1;33m.\u001b[0m\u001b[0mrecord_video\u001b[0m \u001b[1;32mimport\u001b[0m \u001b[0mRecordVideo\u001b[0m\u001b[1;33m,\u001b[0m \u001b[0mcapped_cubic_video_schedule\u001b[0m\u001b[1;33m\n",
      "\u001b[0m\u001b[1;32mfrom\u001b[0m \u001b[0mgym\u001b[0m\u001b[1;33m.\u001b[0m\u001b[0mwrappers\u001b[0m\u001b[1;33m.\u001b[0m\u001b[0mrender_collection\u001b[0m \u001b[1;32mimport\u001b[0m \u001b[0mRenderCollection\u001b[0m\u001b[1;33m\n",
      "\u001b[0m\u001b[1;32mfrom\u001b[0m \u001b[0mgym\u001b[0m\u001b[1;33m.\u001b[0m\u001b[0mwrappers\u001b[0m\u001b[1;33m.\u001b[0m\u001b[0mrescale_action\u001b[0m \u001b[1;32mimport\u001b[0m \u001b[0mRescaleAction\u001b[0m\u001b[1;33m\n",
      "\u001b[0m\u001b[1;32mfrom\u001b[0m \u001b[0mgym\u001b[0m\u001b[1;33m.\u001b[0m\u001b[0mwrappers\u001b[0m\u001b[1;33m.\u001b[0m\u001b[0mresize_observation\u001b[0m \u001b[1;32mimport\u001b[0m \u001b[0mResizeObservation\u001b[0m\u001b[1;33m\n",
      "\u001b[0m\u001b[1;32mfrom\u001b[0m \u001b[0mgym\u001b[0m\u001b[1;33m.\u001b[0m\u001b[0mwrappers\u001b[0m\u001b[1;33m.\u001b[0m\u001b[0mstep_api_compatibility\u001b[0m \u001b[1;32mimport\u001b[0m \u001b[0mStepAPICompatibility\u001b[0m\u001b[1;33m\n",
      "\u001b[0m\u001b[1;32mfrom\u001b[0m \u001b[0mgym\u001b[0m\u001b[1;33m.\u001b[0m\u001b[0mwrappers\u001b[0m\u001b[1;33m.\u001b[0m\u001b[0mtime_aware_observation\u001b[0m \u001b[1;32mimport\u001b[0m \u001b[0mTimeAwareObservation\u001b[0m\u001b[1;33m\n",
      "\u001b[0m\u001b[1;32mfrom\u001b[0m \u001b[0mgym\u001b[0m\u001b[1;33m.\u001b[0m\u001b[0mwrappers\u001b[0m\u001b[1;33m.\u001b[0m\u001b[0mtime_limit\u001b[0m \u001b[1;32mimport\u001b[0m \u001b[0mTimeLimit\u001b[0m\u001b[1;33m\n",
      "\u001b[0m\u001b[1;32mfrom\u001b[0m \u001b[0mgym\u001b[0m\u001b[1;33m.\u001b[0m\u001b[0mwrappers\u001b[0m\u001b[1;33m.\u001b[0m\u001b[0mtransform_observation\u001b[0m \u001b[1;32mimport\u001b[0m \u001b[0mTransformObservation\u001b[0m\u001b[1;33m\n",
      "\u001b[0m\u001b[1;32mfrom\u001b[0m \u001b[0mgym\u001b[0m\u001b[1;33m.\u001b[0m\u001b[0mwrappers\u001b[0m\u001b[1;33m.\u001b[0m\u001b[0mtransform_reward\u001b[0m \u001b[1;32mimport\u001b[0m \u001b[0mTransformReward\u001b[0m\u001b[1;33m\n",
      "\u001b[0m\u001b[1;32mfrom\u001b[0m \u001b[0mgym\u001b[0m\u001b[1;33m.\u001b[0m\u001b[0mwrappers\u001b[0m\u001b[1;33m.\u001b[0m\u001b[0mvector_list_info\u001b[0m \u001b[1;32mimport\u001b[0m \u001b[0mVectorListInfo\u001b[0m\u001b[1;33m\u001b[0m\u001b[1;33m\u001b[0m\u001b[0m"
     ]
    }
   ],
   "source": [
    "wrappers??"
   ]
  },
  {
   "cell_type": "code",
   "execution_count": null,
   "metadata": {},
   "outputs": [
    {
     "ename": "AttributeError",
     "evalue": "module 'gym.wrappers' has no attribute 'Monitor'",
     "output_type": "error",
     "traceback": [
      "\u001b[1;31m---------------------------------------------------------------------------\u001b[0m",
      "\u001b[1;31mAttributeError\u001b[0m                            Traceback (most recent call last)",
      "Cell \u001b[1;32mIn[35], line 7\u001b[0m\n\u001b[0;32m      4\u001b[0m \u001b[38;5;28;01mdef\u001b[39;00m \u001b[38;5;21mrecord_video\u001b[39m(episode):\n\u001b[0;32m      5\u001b[0m     \u001b[38;5;28;01mreturn\u001b[39;00m episode \u001b[38;5;241m<\u001b[39m \u001b[38;5;241m5\u001b[39m\n\u001b[1;32m----> 7\u001b[0m env \u001b[38;5;241m=\u001b[39m \u001b[43mwrappers\u001b[49m\u001b[38;5;241;43m.\u001b[39;49m\u001b[43mMonitor\u001b[49m(env, \u001b[38;5;124m\"\u001b[39m\u001b[38;5;124mvideos\u001b[39m\u001b[38;5;124m\"\u001b[39m, force\u001b[38;5;241m=\u001b[39m\u001b[38;5;28;01mTrue\u001b[39;00m, video_callable\u001b[38;5;241m=\u001b[39mrecord_video)\n",
      "\u001b[1;31mAttributeError\u001b[0m: module 'gym.wrappers' has no attribute 'Monitor'"
     ]
    }
   ],
   "source": [
    "def record_video(episode):\n",
    "    return episode < 5\n",
    "\n",
    "env = wrappers.Monitor(env, \"videos\", force=True, video_callable=record_video)"
   ]
  },
  {
   "cell_type": "code",
   "execution_count": 2,
   "metadata": {},
   "outputs": [
    {
     "name": "stdout",
     "output_type": "stream",
     "text": [
      "Collecting gym==0.25.2\n",
      "  Downloading gym-0.25.2.tar.gz (734 kB)\n",
      "                                              0.0/734.5 kB ? eta -:--:--\n",
      "                                              10.2/734.5 kB ? eta -:--:--\n",
      "     -                                     30.7/734.5 kB 435.7 kB/s eta 0:00:02\n",
      "     --                                    41.0/734.5 kB 281.8 kB/s eta 0:00:03\n",
      "     ----                                  92.2/734.5 kB 476.3 kB/s eta 0:00:02\n",
      "     ----                                  92.2/734.5 kB 476.3 kB/s eta 0:00:02\n",
      "     -----                                112.6/734.5 kB 437.6 kB/s eta 0:00:02\n",
      "     -------                              153.6/734.5 kB 459.5 kB/s eta 0:00:02\n",
      "     ---------                            194.6/734.5 kB 513.4 kB/s eta 0:00:02\n",
      "     -----------                          225.3/734.5 kB 551.4 kB/s eta 0:00:01\n",
      "     -------------                        276.5/734.5 kB 587.7 kB/s eta 0:00:01\n",
      "     --------------                       286.7/734.5 kB 590.8 kB/s eta 0:00:01\n",
      "     ----------------                     337.9/734.5 kB 617.1 kB/s eta 0:00:01\n",
      "     ------------------                   368.6/734.5 kB 620.1 kB/s eta 0:00:01\n",
      "     -------------------                  399.4/734.5 kB 638.9 kB/s eta 0:00:01\n",
      "     ----------------------               450.6/734.5 kB 640.9 kB/s eta 0:00:01\n",
      "     -----------------------              471.0/734.5 kB 655.5 kB/s eta 0:00:01\n",
      "     --------------------------           532.5/734.5 kB 668.7 kB/s eta 0:00:01\n",
      "     ----------------------------         583.7/734.5 kB 692.6 kB/s eta 0:00:01\n",
      "     -------------------------------      634.9/734.5 kB 713.9 kB/s eta 0:00:01\n",
      "     --------------------------------     665.6/734.5 kB 723.4 kB/s eta 0:00:01\n",
      "     -----------------------------------  716.8/734.5 kB 741.4 kB/s eta 0:00:01\n",
      "     ------------------------------------ 734.5/734.5 kB 736.1 kB/s eta 0:00:00\n",
      "  Installing build dependencies: started\n",
      "  Installing build dependencies: finished with status 'done'\n",
      "  Getting requirements to build wheel: started\n",
      "  Getting requirements to build wheel: finished with status 'done'\n",
      "  Preparing metadata (pyproject.toml): started\n",
      "  Preparing metadata (pyproject.toml): finished with status 'done'\n",
      "Requirement already satisfied: numpy>=1.18.0 in c:\\users\\shivam\\anaconda3\\lib\\site-packages (from gym==0.25.2) (1.24.3)\n",
      "Requirement already satisfied: cloudpickle>=1.2.0 in c:\\users\\shivam\\anaconda3\\lib\\site-packages (from gym==0.25.2) (2.2.1)\n",
      "Requirement already satisfied: gym-notices>=0.0.4 in c:\\users\\shivam\\anaconda3\\lib\\site-packages (from gym==0.25.2) (0.0.8)\n",
      "Building wheels for collected packages: gym\n",
      "  Building wheel for gym (pyproject.toml): started\n",
      "  Building wheel for gym (pyproject.toml): finished with status 'done'\n",
      "  Created wheel for gym: filename=gym-0.25.2-py3-none-any.whl size=852301 sha256=eae24b7cec9499e6ff3bfc345082024da921e3a2e252e561e62f66e5342afe0c\n",
      "  Stored in directory: c:\\users\\shivam\\appdata\\local\\pip\\cache\\wheels\\7e\\09\\48\\68ead2493e0b2c26cb6aeb5a712d379f638b5cc21d3501e2f0\n",
      "Successfully built gym\n",
      "Installing collected packages: gym\n",
      "  Attempting uninstall: gym\n",
      "    Found existing installation: gym 0.26.2\n",
      "    Uninstalling gym-0.26.2:\n",
      "      Successfully uninstalled gym-0.26.2\n",
      "Successfully installed gym-0.25.2\n"
     ]
    }
   ],
   "source": [
    "!pip install gym==0.25.2\n"
   ]
  },
  {
   "cell_type": "code",
   "execution_count": 7,
   "metadata": {},
   "outputs": [
    {
     "name": "stdout",
     "output_type": "stream",
     "text": [
      "Collecting pygame\n",
      "  Downloading pygame-2.5.2-cp311-cp311-win_amd64.whl (10.8 MB)\n",
      "                                              0.0/10.8 MB ? eta -:--:--\n",
      "                                             0.0/10.8 MB 660.6 kB/s eta 0:00:17\n",
      "                                             0.0/10.8 MB 660.6 kB/s eta 0:00:17\n",
      "                                             0.1/10.8 MB 409.6 kB/s eta 0:00:27\n",
      "                                             0.1/10.8 MB 409.6 kB/s eta 0:00:27\n",
      "                                             0.1/10.8 MB 262.6 kB/s eta 0:00:41\n",
      "                                             0.2/10.8 MB 541.0 kB/s eta 0:00:20\n",
      "                                             0.2/10.8 MB 541.0 kB/s eta 0:00:20\n",
      "                                             0.2/10.8 MB 599.0 kB/s eta 0:00:18\n",
      "     -                                       0.3/10.8 MB 708.9 kB/s eta 0:00:15\n",
      "     -                                       0.3/10.8 MB 678.1 kB/s eta 0:00:16\n",
      "     -                                       0.4/10.8 MB 778.2 kB/s eta 0:00:14\n",
      "     -                                       0.5/10.8 MB 861.1 kB/s eta 0:00:12\n",
      "     -                                       0.5/10.8 MB 896.4 kB/s eta 0:00:12\n",
      "     --                                      0.6/10.8 MB 924.8 kB/s eta 0:00:12\n",
      "     --                                      0.6/10.8 MB 924.8 kB/s eta 0:00:12\n",
      "     --                                       0.8/10.8 MB 1.1 MB/s eta 0:00:10\n",
      "     ---                                      0.8/10.8 MB 1.1 MB/s eta 0:00:10\n",
      "     ---                                      1.0/10.8 MB 1.1 MB/s eta 0:00:09\n",
      "     ---                                      1.0/10.8 MB 1.2 MB/s eta 0:00:09\n",
      "     ----                                     1.1/10.8 MB 1.2 MB/s eta 0:00:09\n",
      "     ----                                     1.2/10.8 MB 1.2 MB/s eta 0:00:08\n",
      "     ----                                     1.3/10.8 MB 1.3 MB/s eta 0:00:08\n",
      "     -----                                    1.5/10.8 MB 1.4 MB/s eta 0:00:07\n",
      "     -----                                    1.6/10.8 MB 1.5 MB/s eta 0:00:07\n",
      "     -----                                    1.6/10.8 MB 1.5 MB/s eta 0:00:07\n",
      "     ------                                   1.8/10.8 MB 1.5 MB/s eta 0:00:06\n",
      "     -------                                  2.1/10.8 MB 1.7 MB/s eta 0:00:06\n",
      "     -------                                  2.1/10.8 MB 1.7 MB/s eta 0:00:06\n",
      "     --------                                 2.2/10.8 MB 1.6 MB/s eta 0:00:06\n",
      "     --------                                 2.3/10.8 MB 1.7 MB/s eta 0:00:06\n",
      "     --------                                 2.4/10.8 MB 1.7 MB/s eta 0:00:06\n",
      "     ---------                                2.5/10.8 MB 1.7 MB/s eta 0:00:05\n",
      "     ---------                                2.6/10.8 MB 1.7 MB/s eta 0:00:05\n",
      "     ---------                                2.7/10.8 MB 1.7 MB/s eta 0:00:05\n",
      "     ---------                                2.7/10.8 MB 1.7 MB/s eta 0:00:05\n",
      "     ----------                               2.9/10.8 MB 1.7 MB/s eta 0:00:05\n",
      "     -----------                              3.1/10.8 MB 1.8 MB/s eta 0:00:05\n",
      "     -----------                              3.2/10.8 MB 1.8 MB/s eta 0:00:05\n",
      "     ------------                             3.4/10.8 MB 1.9 MB/s eta 0:00:04\n",
      "     -------------                            3.5/10.8 MB 1.9 MB/s eta 0:00:04\n",
      "     -------------                            3.7/10.8 MB 1.9 MB/s eta 0:00:04\n",
      "     --------------                           3.8/10.8 MB 1.9 MB/s eta 0:00:04\n",
      "     --------------                           3.9/10.8 MB 2.0 MB/s eta 0:00:04\n",
      "     ---------------                          4.1/10.8 MB 2.0 MB/s eta 0:00:04\n",
      "     ---------------                          4.1/10.8 MB 2.0 MB/s eta 0:00:04\n",
      "     ---------------                          4.2/10.8 MB 2.0 MB/s eta 0:00:04\n",
      "     ----------------                         4.4/10.8 MB 2.0 MB/s eta 0:00:04\n",
      "     ----------------                         4.5/10.8 MB 2.0 MB/s eta 0:00:04\n",
      "     -----------------                        4.6/10.8 MB 2.0 MB/s eta 0:00:04\n",
      "     -----------------                        4.7/10.8 MB 2.0 MB/s eta 0:00:04\n",
      "     -----------------                        4.7/10.8 MB 2.0 MB/s eta 0:00:03\n",
      "     -----------------                        4.8/10.8 MB 2.0 MB/s eta 0:00:03\n",
      "     ------------------                       4.9/10.8 MB 2.0 MB/s eta 0:00:03\n",
      "     ------------------                       5.0/10.8 MB 2.0 MB/s eta 0:00:03\n",
      "     ------------------                       5.0/10.8 MB 2.0 MB/s eta 0:00:03\n",
      "     ------------------                       5.0/10.8 MB 1.9 MB/s eta 0:00:03\n",
      "     -------------------                      5.2/10.8 MB 2.0 MB/s eta 0:00:03\n",
      "     -------------------                      5.2/10.8 MB 1.9 MB/s eta 0:00:03\n",
      "     -------------------                      5.3/10.8 MB 1.9 MB/s eta 0:00:03\n",
      "     -------------------                      5.3/10.8 MB 1.9 MB/s eta 0:00:03\n",
      "     --------------------                     5.4/10.8 MB 1.9 MB/s eta 0:00:03\n",
      "     --------------------                     5.4/10.8 MB 1.9 MB/s eta 0:00:03\n",
      "     --------------------                     5.4/10.8 MB 1.9 MB/s eta 0:00:03\n",
      "     --------------------                     5.4/10.8 MB 1.9 MB/s eta 0:00:03\n",
      "     --------------------                     5.4/10.8 MB 1.9 MB/s eta 0:00:03\n",
      "     --------------------                     5.4/10.8 MB 1.9 MB/s eta 0:00:03\n",
      "     --------------------                     5.4/10.8 MB 1.9 MB/s eta 0:00:03\n",
      "     --------------------                     5.4/10.8 MB 1.9 MB/s eta 0:00:03\n",
      "     --------------------                     5.4/10.8 MB 1.9 MB/s eta 0:00:03\n",
      "     --------------------                     5.4/10.8 MB 1.9 MB/s eta 0:00:03\n",
      "     --------------------                     5.4/10.8 MB 1.9 MB/s eta 0:00:03\n",
      "     --------------------                     5.4/10.8 MB 1.9 MB/s eta 0:00:03\n",
      "     --------------------                     5.4/10.8 MB 1.9 MB/s eta 0:00:03\n",
      "     --------------------                     5.4/10.8 MB 1.9 MB/s eta 0:00:03\n",
      "     --------------------                     5.4/10.8 MB 1.9 MB/s eta 0:00:03\n",
      "     --------------------                     5.4/10.8 MB 1.9 MB/s eta 0:00:03\n",
      "     ---------------------                    5.7/10.8 MB 1.6 MB/s eta 0:00:04\n",
      "     ---------------------                    5.8/10.8 MB 1.6 MB/s eta 0:00:04\n",
      "     ---------------------                    5.8/10.8 MB 1.6 MB/s eta 0:00:04\n",
      "     ------------------------                 6.5/10.8 MB 1.7 MB/s eta 0:00:03\n",
      "     ------------------------                 6.5/10.8 MB 1.7 MB/s eta 0:00:03\n",
      "     ------------------------                 6.6/10.8 MB 1.7 MB/s eta 0:00:03\n",
      "     ------------------------                 6.7/10.8 MB 1.7 MB/s eta 0:00:03\n",
      "     ------------------------                 6.7/10.8 MB 1.7 MB/s eta 0:00:03\n",
      "     -------------------------                6.7/10.8 MB 1.7 MB/s eta 0:00:03\n",
      "     -------------------------                6.7/10.8 MB 1.7 MB/s eta 0:00:03\n",
      "     -------------------------                6.9/10.8 MB 1.7 MB/s eta 0:00:03\n",
      "     -------------------------                6.9/10.8 MB 1.7 MB/s eta 0:00:03\n",
      "     --------------------------               7.0/10.8 MB 1.7 MB/s eta 0:00:03\n",
      "     --------------------------               7.1/10.8 MB 1.7 MB/s eta 0:00:03\n",
      "     --------------------------               7.3/10.8 MB 1.7 MB/s eta 0:00:03\n",
      "     ---------------------------              7.4/10.8 MB 1.7 MB/s eta 0:00:02\n",
      "     ---------------------------              7.5/10.8 MB 1.7 MB/s eta 0:00:02\n",
      "     ----------------------------             7.6/10.8 MB 1.7 MB/s eta 0:00:02\n",
      "     ----------------------------             7.6/10.8 MB 1.7 MB/s eta 0:00:02\n",
      "     ----------------------------             7.6/10.8 MB 1.7 MB/s eta 0:00:02\n",
      "     ----------------------------             7.7/10.8 MB 1.7 MB/s eta 0:00:02\n",
      "     -----------------------------            7.9/10.8 MB 1.7 MB/s eta 0:00:02\n",
      "     -----------------------------            8.0/10.8 MB 1.7 MB/s eta 0:00:02\n",
      "     -----------------------------            8.0/10.8 MB 1.7 MB/s eta 0:00:02\n",
      "     ------------------------------           8.1/10.8 MB 1.7 MB/s eta 0:00:02\n",
      "     ------------------------------           8.2/10.8 MB 1.7 MB/s eta 0:00:02\n",
      "     -------------------------------          8.4/10.8 MB 1.7 MB/s eta 0:00:02\n",
      "     -------------------------------          8.5/10.8 MB 1.8 MB/s eta 0:00:02\n",
      "     -------------------------------          8.5/10.8 MB 1.8 MB/s eta 0:00:02\n",
      "     -------------------------------          8.5/10.8 MB 1.8 MB/s eta 0:00:02\n",
      "     -------------------------------          8.5/10.8 MB 1.8 MB/s eta 0:00:02\n",
      "     ---------------------------------        9.0/10.8 MB 1.8 MB/s eta 0:00:01\n",
      "     ---------------------------------        9.0/10.8 MB 1.8 MB/s eta 0:00:01\n",
      "     ---------------------------------        9.0/10.8 MB 1.8 MB/s eta 0:00:01\n",
      "     ---------------------------------        9.1/10.8 MB 1.8 MB/s eta 0:00:01\n",
      "     ---------------------------------        9.1/10.8 MB 1.8 MB/s eta 0:00:01\n",
      "     ----------------------------------       9.2/10.8 MB 1.8 MB/s eta 0:00:01\n",
      "     ----------------------------------       9.3/10.8 MB 1.8 MB/s eta 0:00:01\n",
      "     -----------------------------------      9.5/10.8 MB 1.8 MB/s eta 0:00:01\n",
      "     -----------------------------------      9.6/10.8 MB 1.8 MB/s eta 0:00:01\n",
      "     -----------------------------------      9.6/10.8 MB 1.8 MB/s eta 0:00:01\n",
      "     ------------------------------------     9.8/10.8 MB 1.8 MB/s eta 0:00:01\n",
      "     ------------------------------------     9.9/10.8 MB 1.8 MB/s eta 0:00:01\n",
      "     ------------------------------------     9.9/10.8 MB 1.8 MB/s eta 0:00:01\n",
      "     -------------------------------------    10.0/10.8 MB 1.8 MB/s eta 0:00:01\n",
      "     -------------------------------------    10.1/10.8 MB 1.8 MB/s eta 0:00:01\n",
      "     --------------------------------------   10.2/10.8 MB 1.8 MB/s eta 0:00:01\n",
      "     --------------------------------------   10.3/10.8 MB 1.9 MB/s eta 0:00:01\n",
      "     --------------------------------------   10.5/10.8 MB 1.9 MB/s eta 0:00:01\n",
      "     ---------------------------------------  10.6/10.8 MB 1.9 MB/s eta 0:00:01\n",
      "     ---------------------------------------  10.6/10.8 MB 1.9 MB/s eta 0:00:01\n",
      "     ---------------------------------------  10.8/10.8 MB 1.9 MB/s eta 0:00:01\n",
      "     ---------------------------------------- 10.8/10.8 MB 1.9 MB/s eta 0:00:00\n",
      "Installing collected packages: pygame\n",
      "Successfully installed pygame-2.5.2\n"
     ]
    }
   ],
   "source": [
    "!pip install pygame"
   ]
  },
  {
   "cell_type": "code",
   "execution_count": null,
   "metadata": {},
   "outputs": [],
   "source": []
  }
 ],
 "metadata": {
  "kernelspec": {
   "display_name": "base",
   "language": "python",
   "name": "python3"
  },
  "language_info": {
   "codemirror_mode": {
    "name": "ipython",
    "version": 3
   },
   "file_extension": ".py",
   "mimetype": "text/x-python",
   "name": "python",
   "nbconvert_exporter": "python",
   "pygments_lexer": "ipython3",
   "version": "0.0.0"
  }
 },
 "nbformat": 4,
 "nbformat_minor": 2
}
